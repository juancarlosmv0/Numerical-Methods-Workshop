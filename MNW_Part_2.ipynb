{
  "nbformat": 4,
  "nbformat_minor": 0,
  "metadata": {
    "colab": {
      "provenance": []
    },
    "kernelspec": {
      "name": "python3",
      "display_name": "Python 3"
    },
    "language_info": {
      "name": "python"
    }
  },
  "cells": [
    {
      "cell_type": "markdown",
      "source": [
        "# Metodo Cuadratura Adaptativa"
      ],
      "metadata": {
        "id": "KX8s7_pdJKkl"
      }
    },
    {
      "cell_type": "code",
      "execution_count": null,
      "metadata": {
        "id": "MuQwb_RxI4eI",
        "colab": {
          "base_uri": "https://localhost:8080/"
        },
        "outputId": "f0adb361-0204-4043-fc33-c1c4690c067f"
      },
      "outputs": [
        {
          "output_type": "stream",
          "name": "stdout",
          "text": [
            "-1724.9669830852524\n"
          ]
        }
      ],
      "source": [
        "import matplotlib.pyplot as plt\n",
        "import numpy as np\n",
        "\n",
        "a = 1\n",
        "b = 3\n",
        "e = 10**(-6)\n",
        "n = 10\n",
        "\n",
        "TOL = np.zeros(n+1)\n",
        "A = np.zeros(n+1)\n",
        "H = np.zeros(n+1)\n",
        "Fa = np.zeros(n+1)\n",
        "Fb = np.zeros(n+1)\n",
        "Fc = np.zeros(n+1)\n",
        "Si = np.zeros(n+1)\n",
        "L = np.zeros(n+1)\n",
        "v = np.zeros(8)\n",
        "\n",
        "f = lambda x: np.exp(3*x)*np.sin(2*x)\n",
        "S = lambda x, y, z, w: (w/3)*(x + 4*z + y)\n",
        "\n",
        "APP = 0\n",
        "i = 1\n",
        "TOL[i] = 10*e\n",
        "A[i] = a\n",
        "H[i] = (b-a)/2\n",
        "Fa[i] = f(a)\n",
        "Fb[i] = f(b)\n",
        "Fc[i] = f(a + H[i])\n",
        "Si[i] = S(Fa[i], Fb[i], Fc[i], H[i])\n",
        "L[i] = 1\n",
        "\n",
        "while i > 0:\n",
        "  Fd = f(A[i] + H[i]/2)\n",
        "  Fe = f(A[i] + 3*H[i]/2)\n",
        "  S1 = S(Fa[i], Fc[i], Fd, H[i]/2)\n",
        "  S2 = S(Fc[i], Fb[i], Fe, H[i]/2)\n",
        "  v[0] = A[i]\n",
        "  v[1] = Fa[i]\n",
        "  v[2] = Fc[i]\n",
        "  v[3] = Fb[i]\n",
        "  v[4] = H[i]\n",
        "  v[5] = TOL[i]\n",
        "  v[6] = Si[i]\n",
        "  v[7] = L[i]\n",
        "\n",
        "  i = i-1\n",
        "  if np.absolute(S1 + S2 - v[6]) < v[5]:\n",
        "    APP = APP + S1 + S2\n",
        "  else:\n",
        "    if v[7] >= n:\n",
        "     print(\"Nivel excedido\", v[7])\n",
        "     break;\n",
        "    else:\n",
        "     i = i+1\n",
        "     A[i] = v[0] + v[4]\n",
        "     Fa[i] = v[2]\n",
        "     Fc[i] = Fe\n",
        "     Fb[i] = v[3]\n",
        "     H[i] = v[4]/2\n",
        "     TOL[i] = v[5]/2\n",
        "     Si[i] = S2\n",
        "     L[i] = v[7] + 1\n",
        "     i = i+1\n",
        "     A[i] = v[0]\n",
        "     Fa[i] = v[1]\n",
        "     Fc[i] = Fd\n",
        "     Fb[i] = v[2]\n",
        "     H[i] = H[i-1]\n",
        "     TOL[i] = TOL[i-1]\n",
        "     Si[i] = S1\n",
        "     L[i] = L[i-1]\n",
        "\n",
        "print(APP)"
      ]
    },
    {
      "cell_type": "markdown",
      "source": [
        "# Metodo Romberg"
      ],
      "metadata": {
        "id": "z8UKSSvXJccD"
      }
    },
    {
      "cell_type": "code",
      "source": [
        "import matplotlib.pyplot as plt\n",
        "import numpy as np\n",
        "\n",
        "a = 0\n",
        "b = np.pi/4\n",
        "n = 5\n",
        "TOL = 10**(-5)\n",
        "h = b-a\n",
        "R = np.zeros((n+1,n+1))\n",
        "\n",
        "f = lambda x: (x**2)*np.sin(x)\n",
        "\n",
        "R[1,1] = (h/2)*(f(a) + f(b))\n",
        "print(\"R[ 1 , 1 ] = \",R[1,1])\n",
        "\n",
        "#while\n",
        "for i in range(2,n+1):\n",
        " if np.absolute(R[i,i] - R[i-1,i-1]) > TOL and np.absolute(R[i-2,i-2] - R[i-1,i-1]) > TOL:\n",
        "  S = 0\n",
        "  for k in range(1,2**(i-2)+1):\n",
        "    S = S + f(a + (k-0.5)*h)\n",
        "  R[i,1] = (1/2)*(R[i-1,1] + h*S)\n",
        "  print(\"R[\",i,\", 1 ] = \",R[i,1])\n",
        "\n",
        "  for j in range(2,i+1):\n",
        "    R[i,j] = R[i,j-1] + (R[i,j-1] - R[i-1,j-1])/(4**(j-1) - 1)\n",
        "    print(\"R[\",i,\",\",j,\"] = \",R[i,j])\n",
        "\n",
        "  h = h/2\n",
        " else: break;\n",
        "\n",
        "print(R)\n",
        "print(R[i-1,i-1])"
      ],
      "metadata": {
        "id": "kr2apNM8JegG",
        "colab": {
          "base_uri": "https://localhost:8080/"
        },
        "outputId": "03fdb615-54b9-4d28-ad34-dfe6f5025837"
      },
      "execution_count": null,
      "outputs": [
        {
          "output_type": "stream",
          "name": "stdout",
          "text": [
            "R[ 1 , 1 ] =  0.17128709765614306\n",
            "R[ 2 , 1 ] =  0.10881852614228789\n",
            "R[ 2 , 2 ] =  0.08799566897100283\n",
            "R[ 3 , 1 ] =  0.09373653449330721\n",
            "R[ 3 , 2 ] =  0.08870920394364698\n",
            "R[ 3 , 3 ] =  0.08875677294182326\n",
            "R[ 4 , 1 ] =  0.08999845285154665\n",
            "R[ 4 , 2 ] =  0.08875242563762646\n",
            "R[ 4 , 3 ] =  0.08875530708389176\n",
            "R[ 4 , 4 ] =  0.08875528381630554\n",
            "[[0.         0.         0.         0.         0.         0.        ]\n",
            " [0.         0.1712871  0.         0.         0.         0.        ]\n",
            " [0.         0.10881853 0.08799567 0.         0.         0.        ]\n",
            " [0.         0.09373653 0.0887092  0.08875677 0.         0.        ]\n",
            " [0.         0.08999845 0.08875243 0.08875531 0.08875528 0.        ]\n",
            " [0.         0.         0.         0.         0.         0.        ]]\n",
            "0.08875528381630554\n"
          ]
        }
      ]
    }
  ]
}